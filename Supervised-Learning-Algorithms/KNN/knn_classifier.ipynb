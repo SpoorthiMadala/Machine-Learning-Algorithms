{
 "cells": [
  {
   "cell_type": "markdown",
   "id": "875e7287",
   "metadata": {},
   "source": [
    "# K-Nearest Neighbors (KNN) Classification\n",
    "\n",
    "This notebook demonstrates the use of the **K-Nearest Neighbors (KNN)** algorithm for classification.\n",
    "We use the **Breast Cancer Wisconsin dataset** to build and evaluate the KNN model.\n",
    "\n",
    "**Steps Covered:**\n",
    "- Data loading and preprocessing\n",
    "- Model training using `KNeighborsClassifier`\n",
    "- Evaluation with classification metrics and confusion matrix\n"
   ]
  },
  {
   "cell_type": "code",
   "execution_count": null,
   "id": "ff2b345d",
   "metadata": {},
   "outputs": [],
   "source": [
    "import numpy as np\n",
    "import pandas as pd\n",
    "import seaborn as sns\n",
    "import matplotlib.pyplot as plt\n",
    "from sklearn.datasets import load_breast_cancer\n",
    "from sklearn.model_selection import train_test_split\n",
    "from sklearn.preprocessing import StandardScaler\n",
    "from sklearn.neighbors import KNeighborsClassifier\n",
    "from sklearn.metrics import accuracy_score, classification_report, confusion_matrix\n",
    "\n",
    "data = load_breast_cancer()\n",
    "X = data.data\n",
    "y = data.target\n",
    "\n",
    "scaler = StandardScaler()\n",
    "X_scaled = scaler.fit_transform(X)\n",
    "\n",
    "X_train, X_test, y_train, y_test = train_test_split(\n",
    "    X_scaled, y, test_size=0.2, random_state=42, stratify=y\n",
    ")\n",
    "\n",
    "model = KNeighborsClassifier(n_neighbors=5)\n",
    "model.fit(X_train, y_train)\n",
    "\n",
    "y_pred = model.predict(X_test)\n",
    "\n",
    "acc = accuracy_score(y_test, y_pred)\n",
    "print(f\"Accuracy: {acc:.4f}\")\n",
    "print(\"\\nClassification Report:\")\n",
    "print(classification_report(y_test, y_pred, target_names=data.target_names))\n",
    "\n",
    "cm = confusion_matrix(y_test, y_pred)\n",
    "plt.figure(figsize=(6, 5))\n",
    "sns.heatmap(\n",
    "    cm, annot=True, fmt='d', cmap='Greens',\n",
    "    xticklabels=data.target_names, yticklabels=data.target_names\n",
    ")\n",
    "plt.title(\"Confusion Matrix - KNN Classifier\")\n",
    "plt.xlabel(\"Predicted\")\n",
    "plt.ylabel(\"Actual\")\n",
    "plt.grid(False)\n",
    "plt.show()"
   ]
  },
  {
   "cell_type": "markdown",
   "id": "d36a46c0",
   "metadata": {},
   "source": [
    "![KNN Classifier Confusion Matrix](KNN-Classifier.png)\n",
    "\n",
    "## Conclusion: K-Nearest Neighbors\n",
    "\n",
    "- The KNN model achieves strong classification performance on the breast cancer dataset.\n",
    "- KNN is sensitive to the choice of **k** and to **feature scaling**, so tuning and preprocessing are important.\n",
    "- Confusion matrix and classification report help evaluate the effectiveness of the classifier."
   ]
  }
 ],
 "metadata": {},
 "nbformat": 4,
 "nbformat_minor": 5
}
