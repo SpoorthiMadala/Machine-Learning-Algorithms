{
  "cells": [
    {
      "cell_type": "markdown",
      "metadata": {},
      "source": [
        "<table style=\"width:100%\">\n",
        "<tr>\n",
        "<td style=\"vertical-align:middle; text-align:left;\">\n",
        "<font size=\"2\">\n",
        "<br>Simple Linear Regression<br>\n",
        "Code repository: <a href=\"https://github.com/SpoorthiMadala/Machine-Learning-Algorithms\">https://github.com/SpoorthiMadala/Machine-Learning-Algorithms</a>\n",
        "</font>\n",
        "</td>\n",
        "<td style=\"vertical-align:middle; text-align:left;\">\n",
        "<img src=\"https://upload.wikimedia.org/wikipedia/commons/3/3a/Linear_regression.svg\" width=\"100px\">\n",
        "</td>\n",
        "</tr>\n",
        "</table>"
      ]
    },
    {
      "cell_type": "markdown",
      "metadata": {},
      "source": [
        "# Simple Linear Regression\n",
        "\n",
        "### Objective\n",
        "To model the relationship between a single independent variable (e.g., house size) and a dependent variable (e.g., house price) using a linear function."
      ]
    },
    {
      "cell_type": "code",
      "metadata": {},
      "execution_count": null,
      "outputs": [],
      "source": [
        "import matplotlib\n",
        "import numpy as np\n",
        "import seaborn as sns\n",
        "import torch\n",
        "import sklearn\n",
        "print(f\"matplotlib version: {matplotlib.__version__}\")\n",
        "print(f\"numpy version: {np.__version__}\")\n",
        "print(f\"seaborn version: {sns.__version__}\")\n",
        "print(f\"torch version: {torch.__version__}\")\n",
        "print(f\"sklearn version: {sklearn.__version__}\")"
      ]
    },
    {
      "cell_type": "code",
      "metadata": {},
      "execution_count": null,
      "outputs": [],
      "source": [
        "# Importing required libraries\n",
        "import numpy as np\n",
        "import seaborn as sns\n",
        "import matplotlib.pyplot as plt\n",
        "from sklearn.linear_model import LinearRegression\n",
        "from sklearn.metrics import mean_squared_error, r2_score\n",
        "\n",
        "# Generate dummy data\n",
        "np.random.seed(42)\n",
        "X = 2 * np.random.rand(100, 1)\n",
        "y = 4 + 3 * X + np.random.randn(100, 1)\n",
        "\n",
        "# Train the model\n",
        "lin_reg = LinearRegression()\n",
        "lin_reg.fit(X, y)\n",
        "\n",
        "# Predictions\n",
        "y_pred = lin_reg.predict(X)\n",
        "\n",
        "# Evaluation\n",
        "mse = mean_squared_error(y, y_pred)\n",
        "r2 = r2_score(y, y_pred)\n",
        "print(f\"Mean Squared Error: {mse:.2f}\")\n",
        "print(f\"R^2 Score: {r2:.2f}\")"
      ]
    },
    {
      "cell_type": "code",
      "metadata": {},
      "execution_count": null,
      "outputs": [],
      "source": [
        "# Visualization using Seaborn\n",
        "sns.set(style=\"whitegrid\")\n",
        "plt.figure(figsize=(8, 6))\n",
        "sns.scatterplot(x=X.flatten(), y=y.flatten(), color=\"blue\", label=\"Actual Data\")\n",
        "sns.lineplot(x=X.flatten(), y=y_pred.flatten(), color=\"red\", label=\"Regression Line\")\n",
        "plt.xlabel(\"Feature (X)\")\n",
        "plt.ylabel(\"Target (y)\")\n",
        "plt.title(\"Simple Linear Regression\")\n",
        "plt.legend()\n",
        "plt.show()"
      ]
    },
    {
      "cell_type": "markdown",
      "metadata": {},
      "source": [
        "### \u2705 Conclusion\n",
        "- The Simple Linear Regression model effectively captured the linear relationship between the input feature and the target.\n",
        "- With an $R^2$ score of approximately `0.XX`, the model explains XX% of the variance in the data.\n",
        "- This is a fundamental building block for more advanced regression and deep learning models.\n",
        "\n",
        "> Next: Try applying this to a real dataset like **California Housing** or **Boston Housing** to understand model performance on real-world data."
      ]
    }
  ],
  "metadata": {
    "kernelspec": {
      "display_name": "Python 3",
      "language": "python",
      "name": "python3"
    },
    "language_info": {
      "name": "python",
      "version": ""
    }
  },
  "nbformat": 4,
  "nbformat_minor": 5
}
