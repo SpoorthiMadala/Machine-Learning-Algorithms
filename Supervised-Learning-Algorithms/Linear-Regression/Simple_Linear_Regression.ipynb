{
 "cells": [
  {
   "cell_type": "markdown",
   "id": "9d613885",
   "metadata": {},
   "source": [
    "# Linear Regression\n",
    "\n",
    "This notebook demonstrates the implementation of a **Simple Linear Regression** model using the **California Housing dataset**.  \n",
    "We explore how **median income (`MedInc`)** affects **median house prices**. The notebook covers:\n",
    "\n",
    "- Theory and assumptions of simple linear regression\n",
    "- Data loading and preprocessing\n",
    "- Model training and evaluation\n",
    "- Visualization and conclusion\n"
   ]
  },
  {
   "cell_type": "code",
   "execution_count": null,
   "id": "1f635a6f",
   "metadata": {},
   "outputs": [],
   "source": [
    "import numpy as np\n",
    "import pandas as pd\n",
    "import matplotlib.pyplot as plt\n",
    "import seaborn as sns\n",
    "from sklearn.datasets import fetch_california_housing\n",
    "from sklearn.model_selection import train_test_split\n",
    "from sklearn.linear_model import LinearRegression\n",
    "from sklearn.metrics import mean_squared_error, r2_score\n",
    "\n",
    "\n",
    "data = fetch_california_housing()\n",
    "df = pd.DataFrame(data.data, columns=data.feature_names)\n",
    "df['label'] = data.target\n",
    "\n",
    "\n",
    "X = df[['MedInc']]\n",
    "y = df['label']\n",
    "\n",
    "X_train, X_test, y_train, y_test = train_test_split(X, y, test_size=0.2, random_state=42)\n",
    "\n",
    "model = LinearRegression()\n",
    "model.fit(X_train, y_train)\n",
    "y_pred = model.predict(X_test)\n",
    "\n",
    "mse = mean_squared_error(y_test, y_pred)\n",
    "r2 = r2_score(y_test, y_pred)\n",
    "\n",
    "print(\"Mean Squared Error (MSE):\", round(mse, 4))\n",
    "print(\"R-squared (R²) Score:\", round(r2, 4))\n"
    "\n",
    "plt.figure(figsize=(10, 6))\n",
    "sns.regplot(\n",
    "    x='MedInc',\n",
    "    y='Actual',\n",
    "    data=plot_df,\n",
    "    scatter_kws={'alpha': 0.4},\n",
    "    line_kws={\"color\": \"red\"}\n",
    ")\n",
    "plt.title(\"Simple Linear Regression using Seaborn: MedInc vs House Price\")\n",
    "plt.xlabel(\"Median Income (MedInc)\")\n",
    "plt.ylabel(\"Median House Value (in $100,000s)\")\n",
    "plt.grid(True)\n",
    "plt.show()\n"
   
  },
  
  {
   "cell_type": "markdown",
   "id": "41f88eb7",
   "metadata": {},
   "source": [
    "## Conclusion: Simple Linear Regression\n",
    "\n",
    "In this experiment, we used **Simple Linear Regression** to model the relationship between **median income (`MedInc`)** and **median house prices** in California.\n",
    "\n",
    "### Key Findings\n",
    "\n",
    "- The regression model successfully captured a general **positive correlation** between income and housing prices.\n",
    "- Performance evaluation metrics:\n",
    "  - **Mean Squared Error (MSE)**: Measures average squared difference between actual and predicted values.\n",
    "  - **R-squared (R²) Score**: Indicates how much of the variance in house prices is explained by median income.\n",
    "\n",
    "### Limitations\n",
    "\n",
    "- Only a **single feature (`MedInc`)** was used, while real-world house prices depend on many factors such as **location, population, house age**, etc.\n",
    "- This model is **too simplistic** for accurate predictions but is effective for understanding linear relationships and model-building fundamentals.\n",
    "\n",
    "---\n",
    "\n",
    "In the next section, we will implement **Multiple Linear Regression** using all features to build a more robust and informative model.\n"
   ]
  }
 ],
 "metadata": {
  "language_info": {
   "name": "python"
  }
 },
 "nbformat": 4,
 "nbformat_minor": 5
}
