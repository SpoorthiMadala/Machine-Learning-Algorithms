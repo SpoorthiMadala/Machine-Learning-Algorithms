{
 "cells": [
  {
   "cell_type": "markdown",
   "metadata": {},
   "source": [
    "# Gaussian Naive Bayes Classifier\n",
    "\n",
    "This notebook demonstrates the implementation of the **Gaussian Naive Bayes** classifier using the **Breast Cancer dataset**.\n",
    "We cover:\n",
    "- Data preprocessing\n",
    "- Model training and evaluation\n",
    "- Visualization of the confusion matrix\n"
   ]
  },
  {
   "cell_type": "code",
   "metadata": {},
   "execution_count": null,
   "outputs": [],
   "source": [
    "import numpy as np\n",
    "import pandas as pd\n",
    "import seaborn as sns\n",
    "import matplotlib.pyplot as plt\n",
    "from sklearn.datasets import load_breast_cancer\n",
    "from sklearn.model_selection import train_test_split\n",
    "from sklearn.preprocessing import StandardScaler\n",
    "from sklearn.naive_bayes import GaussianNB\n",
    "from sklearn.metrics import accuracy_score, classification_report, confusion_matrix\n",
    "\n",
    "data = load_breast_cancer()\n",
    "X = data.data\n",
    "y = data.target\n",
    "\n",
    "scaler = StandardScaler()\n",
    "X_scaled = scaler.fit_transform(X)\n",
    "\n",
    "X_train, X_test, y_train, y_test = train_test_split(\n",
    "    X_scaled, y, test_size=0.2, random_state=42, stratify=y\n",
    ")\n",
    "\n",
    "model = GaussianNB()\n",
    "model.fit(X_train, y_train)\n",
    "\n",
    "y_pred = model.predict(X_test)\n",
    "\n",
    "accuracy = accuracy_score(y_test, y_pred)\n",
    "print(f\"Accuracy: {accuracy:.4f}\")\n",
    "\n",
    "print(\"\\nClassification Report:\")\n",
    "print(classification_report(y_test, y_pred, target_names=data.target_names))\n",
    "\n",
    "cm = confusion_matrix(y_test, y_pred)\n",
    "plt.figure(figsize=(6, 5))\n",
    "sns.heatmap(\n",
    "    cm, annot=True, fmt='d', cmap='Reds',\n",
    "    xticklabels=data.target_names, yticklabels=data.target_names\n",
    ")\n",
    "plt.title(\"Confusion Matrix - Gaussian Naive Bayes\")\n",
    "plt.xlabel(\"Predicted\")\n",
    "plt.ylabel(\"Actual\")\n",
    "plt.grid(False)\n",
    "plt.show()"
   ]
  },
  {
   "cell_type": "markdown",
   "metadata": {},
   "source": [
    "![Confusion Matrix - Gaussian Naive Bayes](Gaussian.png)\n",
    "\n",
    "## Conclusion: Gaussian Naive Bayes\n",
    "\n",
    "The Gaussian Naive Bayes classifier was applied to the Breast Cancer dataset.\n",
    "- The model assumes features follow a Gaussian distribution.\n",
    "- It achieved good accuracy and classification performance.\n",
    "- The confusion matrix image reflects the classification quality.\n"
   ]
  }
 ],
 "metadata": {
  "kernelspec": { "display_name": "Python 3", "language": "python", "name": "python3" },
  "language_info": { "name": "python", "version": "3.x" }
 },
 "nbformat": 4,
 "nbformat_minor": 5
}
