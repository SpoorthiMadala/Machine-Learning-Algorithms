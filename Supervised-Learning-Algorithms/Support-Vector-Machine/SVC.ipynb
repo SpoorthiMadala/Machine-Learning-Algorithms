{
 "cells": [
  {
   "cell_type": "markdown",
   "metadata": {},
   "source": [
    "# Support Vector Classifier (SVC)\n",
    "\n",
    "This notebook demonstrates the implementation of the **Support Vector Classifier (SVC)** using the **Breast Cancer dataset**.\n",
    "We cover:\n",
    "- Data preprocessing\n",
    "- Model training and evaluation\n",
    "- Visualization of the confusion matrix\n"
   ]
  },
  {
   "cell_type": "code",
   "metadata": {},
   "execution_count": null,
   "outputs": [],
   "source": [
    "import numpy as np\n",
    "import pandas as pd\n",
    "import seaborn as sns\n",
    "import matplotlib.pyplot as plt\n",
    "from sklearn.datasets import load_breast_cancer\n",
    "from sklearn.model_selection import train_test_split\n",
    "from sklearn.preprocessing import StandardScaler\n",
    "from sklearn.svm import SVC\n",
    "from sklearn.metrics import accuracy_score, classification_report, confusion_matrix\n",
    "\n",
    "data = load_breast_cancer()\n",
    "X = data.data\n",
    "y = data.target\n",
    "\n",
    "scaler = StandardScaler()\n",
    "X_scaled = scaler.fit_transform(X)\n",
    "\n",
    "X_train, X_test, y_train, y_test = train_test_split(\n",
    "    X_scaled, y, test_size=0.2, random_state=42, stratify=y\n",
    ")\n",
    "\n",
    "model = SVC(kernel='rbf', probability=True, random_state=42)\n",
    "model.fit(X_train, y_train)\n",
    "\n",
    "y_pred = model.predict(X_test)\n",
    "\n",
    "accuracy = accuracy_score(y_test, y_pred)\n",
    "print(f\"Accuracy: {accuracy:.4f}\")\n",
    "\n",
    "print(\"\\nClassification Report:\")\n",
    "print(classification_report(y_test, y_pred, target_names=data.target_names))\n",
    "\n",
    "cm = confusion_matrix(y_test, y_pred)\n",
    "plt.figure(figsize=(6, 5))\n",
    "sns.heatmap(\n",
    "    cm, annot=True, fmt='d', cmap='Reds',\n",
    "    xticklabels=data.target_names, yticklabels=data.target_names\n",
    ")\n",
    "plt.title(\"Confusion Matrix - SVC\")\n",
    "plt.xlabel(\"Predicted\")\n",
    "plt.ylabel(\"Actual\")\n",
    "plt.grid(False)\n",
    "plt.show()"
   ]
  },
  {
   "cell_type": "markdown",
   "metadata": {},
   "source": [
    "![Confusion Matrix - SVC](SVC.png)\n",
    "\n",
    "## Conclusion: Support Vector Classifier\n",
    "\n",
    "The Support Vector Classifier (SVC) was applied to the Breast Cancer dataset.\n",
    "- The model achieved a high accuracy indicating effective classification.\n",
    "- The confusion matrix visualization highlights the prediction quality.\n",
    "- Performance metrics such as precision, recall, and f1-score are detailed in the classification report.\n"
   ]
  }
 ],
 "metadata": {
  "kernelspec": {
   "display_name": "Python 3",
   "language": "python",
   "name": "python3"
  },
  "language_info": {
   "name": "python",
   "version": "3.x"
  }
 },
 "nbformat": 4,
 "nbformat_minor": 5
}
